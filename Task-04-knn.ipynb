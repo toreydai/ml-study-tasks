{
 "cells": [
  {
   "cell_type": "code",
   "execution_count": 1,
   "metadata": {},
   "outputs": [],
   "source": [
    "import numpy as np \n",
    "import matplotlib.pyplot as plt\n",
    "from collections import Counter\n",
    "from sklearn.model_selection import train_test_split"
   ]
  },
  {
   "cell_type": "code",
   "execution_count": 2,
   "metadata": {},
   "outputs": [],
   "source": [
    "raw_data_X = [[3.393533211, 2.331273381],\n",
    "              [3.110073483, 1.781539638],\n",
    "              [1.343808831, 3.368360954],\n",
    "              [3.582294042, 4.679179110],\n",
    "              [2.280362439, 2.866990263],\n",
    "              [7.423436942, 4.696522875],\n",
    "              [5.745051997, 3.533989803],\n",
    "              [9.172168622, 2.511101045],\n",
    "              [7.792783481, 3.424088941],\n",
    "              [7.939820817, 0.791637231]\n",
    "             ]\n",
    "raw_data_y = [0, 0, 0, 0, 0, 1, 1, 1, 1, 1]\n",
    "\n",
    "X_train = np.array(raw_data_X)\n",
    "y_train = np.array(raw_data_y)\n",
    "\n",
    "x = np.array([8.093607318, 3.365731514])"
   ]
  },
  {
   "cell_type": "code",
   "execution_count": 3,
   "metadata": {},
   "outputs": [
    {
     "data": {
      "text/plain": [
       "<matplotlib.collections.PathCollection at 0x7f1cdcd38a20>"
      ]
     },
     "execution_count": 3,
     "metadata": {},
     "output_type": "execute_result"
    },
    {
     "data": {
      "image/png": "[encoded data removed]",
      "text/plain": [
       "<Figure size 432x288 with 1 Axes>"
      ]
     },
     "metadata": {},
     "output_type": "display_data"
    }
   ],
   "source": [
    "plt.scatter(X_train[y_train==0,0], X_train[y_train==0,1], color='g')\n",
    "plt.scatter(X_train[y_train==1,0], X_train[y_train==1,1], color='r')\n",
    "plt.scatter(x[0], x[1], color='b')"
   ]
  },
  {
   "cell_type": "code",
   "execution_count": 4,
   "metadata": {},
   "outputs": [
    {
     "name": "stdout",
     "output_type": "stream",
     "text": [
      "[4.812566907609877, 5.229270827235305, 6.749798999160064, 4.6986266144110695, 5.83460014556857, 1.4900114024329525, 2.354574897431513, 1.3761132675144652, 0.3064319992975, 2.5786840957478887]\n",
      "0      4.812566907609877\n",
      "0      5.229270827235305\n",
      "0      6.749798999160064\n",
      "0      4.6986266144110695\n",
      "0      5.83460014556857\n",
      "1      1.4900114024329525\n",
      "1      2.354574897431513\n",
      "1      1.3761132675144652\n",
      "1      0.3064319992975\n",
      "1      2.5786840957478887\n"
     ]
    }
   ],
   "source": [
    "distances = []\n",
    "for item in raw_data_X:\n",
    "    dist = np.sum(np.square(item - x))\n",
    "    distances.append(np.sqrt(dist))\n",
    "print(distances)\n",
    "\n",
    "for label, value in zip(raw_data_y,distances):\n",
    "    print(label, '    ' ,value)"
   ]
  },
  {
   "cell_type": "code",
   "execution_count": 5,
   "metadata": {},
   "outputs": [
    {
     "name": "stdout",
     "output_type": "stream",
     "text": [
      "[8 7 5 6 9 3 0 1 4 2]\n"
     ]
    }
   ],
   "source": [
    "rank = np.argsort(distances)\n",
    "\n",
    "print(rank)"
   ]
  },
  {
   "cell_type": "code",
   "execution_count": 8,
   "metadata": {},
   "outputs": [
    {
     "name": "stdout",
     "output_type": "stream",
     "text": [
      "[1, 1, 1, 1, 1, 0]\n"
     ]
    }
   ],
   "source": [
    "k = 6\n",
    "\n",
    "topK_y = [raw_data_y[i] for i in rank[:k]]\n",
    "print(topK_y)"
   ]
  },
  {
   "cell_type": "code",
   "execution_count": 13,
   "metadata": {},
   "outputs": [
    {
     "name": "stdout",
     "output_type": "stream",
     "text": [
      "Counter({1: 5, 0: 1})\n"
     ]
    },
    {
     "data": {
      "text/plain": [
       "1"
      ]
     },
     "execution_count": 13,
     "metadata": {},
     "output_type": "execute_result"
    }
   ],
   "source": [
    "votes = Counter(topK_y)\n",
    "print(votes)\n",
    "votes.most_common(1)[0][0]"
   ]
  },
  {
   "cell_type": "markdown",
   "metadata": {},
   "source": [
    "封装KNN算法"
   ]
  },
  {
   "cell_type": "code",
   "execution_count": 15,
   "metadata": {},
   "outputs": [
    {
     "data": {
      "text/plain": [
       "KNeighborsClassifier(algorithm='auto', leaf_size=30, metric='minkowski',\n",
       "           metric_params=None, n_jobs=None, n_neighbors=6, p=2,\n",
       "           weights='uniform')"
      ]
     },
     "execution_count": 15,
     "metadata": {},
     "output_type": "execute_result"
    }
   ],
   "source": [
    "from sklearn.neighbors import KNeighborsClassifier\n",
    "\n",
    "kNN_classifier = KNeighborsClassifier(n_neighbors=6)\n",
    "kNN_classifier.fit(X_train, y_train)"
   ]
  },
  {
   "cell_type": "code",
   "execution_count": 17,
   "metadata": {},
   "outputs": [
    {
     "data": {
      "text/plain": [
       "1"
      ]
     },
     "execution_count": 17,
     "metadata": {},
     "output_type": "execute_result"
    }
   ],
   "source": [
    "X_predict = x.reshape(1, -1)\n",
    "kNN_classifier.predict(X_predict)[0]"
   ]
  },
  {
   "cell_type": "markdown",
   "metadata": {},
   "source": [
    "KNN"
   ]
  },
  {
   "cell_type": "code",
   "execution_count": 28,
   "metadata": {},
   "outputs": [],
   "source": [
    "\n",
    "class KNNClassifier:\n",
    "    def __init__(self, k):\n",
    "        \n",
    "        assert k >=1, \"K must be valid\"\n",
    "        self.k = k \n",
    "        self._X_train = None\n",
    "        self._y_train = None\n",
    "    \n",
    "    def fit(self, X_train , y_train):\n",
    "        assert X_train.shape[0] == y_train.shape[0], \\\n",
    "            \"the size of X_train must be equal to the size of y_train\"\n",
    "        assert self.k <= X_train.shape[0], \\\n",
    "            \"the size of X_train must be at least k.\"\n",
    "        \n",
    "        self._X_train = X_train\n",
    "        self._y_train = y_train\n",
    "        \n",
    "        return self\n",
    "    \n",
    "    def predict(self, X_predict):\n",
    "        \"\"\"给定待预测数据集X_predict，返回表示X_predict的结果向量\"\"\"\n",
    "        assert self._X_train is not None and self._y_train is not None, \\\n",
    "                \"must fit before predict!\"\n",
    "        assert X_predict.shape[1] == self._X_train.shape[1], \\\n",
    "                \"the feature number of X_predict must be equal to X_train\"\n",
    "        \n",
    "        y_predict = [self._predict(x) for x in X_predict]\n",
    "        return np.array(y_predict)\n",
    "    \n",
    "    def _predict(self, x):\n",
    "        assert x.shape[0] == self._X_train.shape[1], \\\n",
    "            \"the feature number of x must be equal to X_train\"\n",
    "        \n",
    "        distances = [sqrt(np.sum((x_train - x) ** 2))\n",
    "                     for x_train in self._X_train]\n",
    "        nearest = np.argsort(distances)\n",
    "\n",
    "        topK_y = [self._y_train[i] for i in nearest[:self.k]]\n",
    "        votes = Counter(topK_y)\n",
    "\n",
    "        return votes.most_common(1)[0][0]\n",
    "    def __repr__(self):\n",
    "        return \"KNN(k=%d)\" % self.k"
   ]
  },
  {
   "cell_type": "code",
   "execution_count": 19,
   "metadata": {},
   "outputs": [
    {
     "data": {
      "text/plain": [
       "dict_keys(['data', 'target', 'target_names', 'images', 'DESCR'])"
      ]
     },
     "execution_count": 19,
     "metadata": {},
     "output_type": "execute_result"
    }
   ],
   "source": [
    "from sklearn import datasets\n",
    "\n",
    "digits = datasets.load_digits()\n",
    "digits.keys()"
   ]
  },
  {
   "cell_type": "markdown",
   "metadata": {},
   "source": [
    "最值归一化"
   ]
  },
  {
   "cell_type": "code",
   "execution_count": 20,
   "metadata": {},
   "outputs": [
    {
     "data": {
      "text/plain": [
       "array([37, 33, 69, 44, 92, 97, 11, 13, 50, 12, 55, 77, 72, 57, 10,  2, 98,\n",
       "       20, 50, 64, 53, 82, 53, 92, 10, 25, 87, 58, 72, 35,  0,  0, 72,  1,\n",
       "       20, 83, 21,  5, 34, 33, 69, 14, 52, 17, 49, 79, 60, 88, 52, 18, 80,\n",
       "       96, 43, 13, 72, 19, 79, 92, 79, 16, 11, 67, 87, 39,  9,  6, 27, 64,\n",
       "        7, 25, 82, 65, 14,  9, 32, 52, 39, 98, 61, 24, 10, 28, 43, 96, 10,\n",
       "       80, 46, 38, 18,  2, 49,  7, 61,  8, 70, 84, 46, 44, 36,  7])"
      ]
     },
     "execution_count": 20,
     "metadata": {},
     "output_type": "execute_result"
    }
   ],
   "source": [
    "x= np.random.randint(0, 100, size=100)\n",
    "x"
   ]
  },
  {
   "cell_type": "code",
   "execution_count": 21,
   "metadata": {},
   "outputs": [
    {
     "data": {
      "text/plain": [
       "array([0.37755102, 0.33673469, 0.70408163, 0.44897959, 0.93877551,\n",
       "       0.98979592, 0.1122449 , 0.13265306, 0.51020408, 0.12244898,\n",
       "       0.56122449, 0.78571429, 0.73469388, 0.58163265, 0.10204082,\n",
       "       0.02040816, 1.        , 0.20408163, 0.51020408, 0.65306122,\n",
       "       0.54081633, 0.83673469, 0.54081633, 0.93877551, 0.10204082,\n",
       "       0.25510204, 0.8877551 , 0.59183673, 0.73469388, 0.35714286,\n",
       "       0.        , 0.        , 0.73469388, 0.01020408, 0.20408163,\n",
       "       0.84693878, 0.21428571, 0.05102041, 0.34693878, 0.33673469,\n",
       "       0.70408163, 0.14285714, 0.53061224, 0.17346939, 0.5       ,\n",
       "       0.80612245, 0.6122449 , 0.89795918, 0.53061224, 0.18367347,\n",
       "       0.81632653, 0.97959184, 0.43877551, 0.13265306, 0.73469388,\n",
       "       0.19387755, 0.80612245, 0.93877551, 0.80612245, 0.16326531,\n",
       "       0.1122449 , 0.68367347, 0.8877551 , 0.39795918, 0.09183673,\n",
       "       0.06122449, 0.2755102 , 0.65306122, 0.07142857, 0.25510204,\n",
       "       0.83673469, 0.66326531, 0.14285714, 0.09183673, 0.32653061,\n",
       "       0.53061224, 0.39795918, 1.        , 0.62244898, 0.24489796,\n",
       "       0.10204082, 0.28571429, 0.43877551, 0.97959184, 0.10204082,\n",
       "       0.81632653, 0.46938776, 0.3877551 , 0.18367347, 0.02040816,\n",
       "       0.5       , 0.07142857, 0.62244898, 0.08163265, 0.71428571,\n",
       "       0.85714286, 0.46938776, 0.44897959, 0.36734694, 0.07142857])"
      ]
     },
     "execution_count": 21,
     "metadata": {},
     "output_type": "execute_result"
    }
   ],
   "source": [
    "(x - np.min(x)) / (np.max(x) - np.min(x))"
   ]
  },
  {
   "cell_type": "code",
   "execution_count": 25,
   "metadata": {},
   "outputs": [],
   "source": [
    "X2 = np.random.randint(0,  100, (50, 2))\n",
    "X2 = np.array(X2,dtype=float)"
   ]
  },
  {
   "cell_type": "code",
   "execution_count": 26,
   "metadata": {},
   "outputs": [],
   "source": [
    "X2[:, 0] = (X2[:,0] - np.mean(X2[:,0]) ) /np.std(X2[:, 0])\n",
    "X2[:, 1] = (X2[:,1] - np.mean(X2[:,1]) ) /np.std(X2[:, 1])"
   ]
  },
  {
   "cell_type": "code",
   "execution_count": 27,
   "metadata": {},
   "outputs": [
    {
     "data": {
      "image/png": "[encoded data removed]",
      "text/plain": [
       "<Figure size 432x288 with 1 Axes>"
      ]
     },
     "metadata": {},
     "output_type": "display_data"
    }
   ],
   "source": [
    "plt.scatter(X2[:,0],X2[:,1])\n",
    "plt.show()"
   ]
  },
  {
   "cell_type": "code",
   "execution_count": 29,
   "metadata": {},
   "outputs": [],
   "source": [
    "iris = datasets.load_iris()\n",
    "\n",
    "X = iris.data\n",
    "y = iris.target"
   ]
  },
  {
   "cell_type": "code",
   "execution_count": 30,
   "metadata": {},
   "outputs": [],
   "source": [
    "X_train, X_test, y_train, y_test = train_test_split(iris.data, iris.target)"
   ]
  },
  {
   "cell_type": "code",
   "execution_count": 31,
   "metadata": {},
   "outputs": [],
   "source": [
    "from sklearn.preprocessing import StandardScaler\n",
    "standarScaler = StandardScaler()"
   ]
  },
  {
   "cell_type": "code",
   "execution_count": 32,
   "metadata": {},
   "outputs": [
    {
     "data": {
      "text/plain": [
       "StandardScaler(copy=True, with_mean=True, with_std=True)"
      ]
     },
     "execution_count": 32,
     "metadata": {},
     "output_type": "execute_result"
    }
   ],
   "source": [
    "standarScaler.fit(X_train)"
   ]
  },
  {
   "cell_type": "code",
   "execution_count": 33,
   "metadata": {},
   "outputs": [
    {
     "data": {
      "text/plain": [
       "array([5.83839286, 3.06517857, 3.77142857, 1.21875   ])"
      ]
     },
     "execution_count": 33,
     "metadata": {},
     "output_type": "execute_result"
    }
   ],
   "source": [
    "standarScaler.mean_"
   ]
  },
  {
   "cell_type": "code",
   "execution_count": 34,
   "metadata": {},
   "outputs": [],
   "source": [
    "X_train = standarScaler.transform(X_train)"
   ]
  },
  {
   "cell_type": "code",
   "execution_count": null,
   "metadata": {},
   "outputs": [],
   "source": []
  },
  {
   "cell_type": "code",
   "execution_count": null,
   "metadata": {},
   "outputs": [],
   "source": []
  }
 ],
 "metadata": {
  "kernelspec": {
   "display_name": "conda_python3",
   "language": "python",
   "name": "conda_python3"
  },
  "language_info": {
   "codemirror_mode": {
    "name": "ipython",
    "version": 3
   },
   "file_extension": ".py",
   "mimetype": "text/x-python",
   "name": "python",
   "nbconvert_exporter": "python",
   "pygments_lexer": "ipython3",
   "version": "3.6.5"
  }
 },
 "nbformat": 4,
 "nbformat_minor": 4
}
