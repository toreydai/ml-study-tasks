{
 "cells": [
  {
   "cell_type": "code",
   "execution_count": 2,
   "metadata": {},
   "outputs": [],
   "source": [
    "import numpy as np\n",
    "import pandas as pd\n",
    "import matplotlib.pyplot as plt\n",
    "from sklearn.model_selection import train_test_split\n",
    "from sklearn.linear_model import LinearRegression"
   ]
  },
  {
   "cell_type": "code",
   "execution_count": 3,
   "metadata": {},
   "outputs": [
    {
     "data": {
      "text/plain": [
       "array([[  0.  ,   0.  ,   0.  , ...,  56.64,  85.57,   0.75],\n",
       "       [  0.  ,   0.  ,   0.  , ...,  44.62,  45.28,   0.85],\n",
       "       [  0.  ,   0.  ,   0.  , ...,  65.02,  82.69,   0.55],\n",
       "       ...,\n",
       "       [  0.  ,   0.  ,   0.  , ...,  61.73,  70.54,   0.65],\n",
       "       [  0.  ,   0.  ,   0.  , ...,  86.54,  86.67,   0.5 ],\n",
       "       [  1.  ,   0.  ,   1.  , ...,  38.02, 100.  ,   0.85]])"
      ]
     },
     "execution_count": 3,
     "metadata": {},
     "output_type": "execute_result"
    }
   ],
   "source": [
    "df = pd.read_csv('data.csv')\n",
    "data = df.values\n",
    "data"
   ]
  },
  {
   "cell_type": "code",
   "execution_count": 4,
   "metadata": {},
   "outputs": [],
   "source": [
    "X = data[:,:-1]\n",
    "y = data[:,-1]"
   ]
  },
  {
   "cell_type": "code",
   "execution_count": 5,
   "metadata": {},
   "outputs": [],
   "source": [
    "X_train, X_test, y_train, y_test = train_test_split(X,y)"
   ]
  },
  {
   "cell_type": "markdown",
   "metadata": {},
   "source": [
    "## SKlearn LinearRegression"
   ]
  },
  {
   "cell_type": "code",
   "execution_count": 6,
   "metadata": {},
   "outputs": [],
   "source": [
    "reg = LinearRegression()"
   ]
  },
  {
   "cell_type": "code",
   "execution_count": 7,
   "metadata": {},
   "outputs": [
    {
     "data": {
      "text/plain": [
       "LinearRegression(copy_X=True, fit_intercept=True, n_jobs=None, normalize=False)"
      ]
     },
     "execution_count": 7,
     "metadata": {},
     "output_type": "execute_result"
    }
   ],
   "source": [
    "reg.fit(X_train, y_train)"
   ]
  },
  {
   "cell_type": "code",
   "execution_count": 8,
   "metadata": {},
   "outputs": [
    {
     "data": {
      "text/plain": [
       "array([-0.17784169,  0.00347086,  0.51373933, -0.00061146, -0.03593283,\n",
       "       -0.03926314, -0.01683945, -0.40472057,  0.00196065,  0.03588212,\n",
       "        0.00227268,  0.02624547,  0.01475503,  0.00276604, -0.00092719,\n",
       "       -0.00052475])"
      ]
     },
     "execution_count": 8,
     "metadata": {},
     "output_type": "execute_result"
    }
   ],
   "source": [
    "reg.coef_"
   ]
  },
  {
   "cell_type": "code",
   "execution_count": 9,
   "metadata": {},
   "outputs": [
    {
     "data": {
      "text/plain": [
       "0.7388333608706937"
      ]
     },
     "execution_count": 9,
     "metadata": {},
     "output_type": "execute_result"
    }
   ],
   "source": [
    "reg.intercept_"
   ]
  },
  {
   "cell_type": "code",
   "execution_count": 10,
   "metadata": {},
   "outputs": [
    {
     "data": {
      "text/plain": [
       "0.33241635109724876"
      ]
     },
     "execution_count": 10,
     "metadata": {},
     "output_type": "execute_result"
    }
   ],
   "source": [
    "reg.score(X_test,y_test)"
   ]
  },
  {
   "cell_type": "markdown",
   "metadata": {},
   "source": [
    "## Pipeline"
   ]
  },
  {
   "cell_type": "code",
   "execution_count": 11,
   "metadata": {},
   "outputs": [
    {
     "data": {
      "text/plain": [
       "0.332416351097249"
      ]
     },
     "execution_count": 11,
     "metadata": {},
     "output_type": "execute_result"
    }
   ],
   "source": [
    "from sklearn.pipeline import Pipeline\n",
    "from sklearn.preprocessing import StandardScaler\n",
    "reg1 = Pipeline([('Scaler', StandardScaler()), ('LR', LinearRegression())])\n",
    "reg1.fit(X_train, y_train)\n",
    "reg1.score(X_test, y_test)"
   ]
  },
  {
   "cell_type": "code",
   "execution_count": 13,
   "metadata": {},
   "outputs": [
    {
     "name": "stdout",
     "output_type": "stream",
     "text": [
      "CPU times: user 56.3 s, sys: 228 ms, total: 56.5 s\n",
      "Wall time: 56.5 s\n"
     ]
    },
    {
     "data": {
      "text/plain": [
       "0.8923319207118063"
      ]
     },
     "execution_count": 13,
     "metadata": {},
     "output_type": "execute_result"
    }
   ],
   "source": [
    "%%time\n",
    "from sklearn.pipeline import Pipeline\n",
    "from sklearn.ensemble import RandomForestRegressor\n",
    "reg4 = Pipeline([('Scaler', StandardScaler()), ('RFR', RandomForestRegressor(n_estimators=500, min_samples_split=2))])\n",
    "reg4.fit(X_train, y_train)\n",
    "reg4.score(X_test, y_test)"
   ]
  },
  {
   "cell_type": "code",
   "execution_count": 15,
   "metadata": {},
   "outputs": [
    {
     "name": "stdout",
     "output_type": "stream",
     "text": [
      "'[0.75 0.85 0.55 ... 0.65 0.5  0.85]'       相关参数 \n",
      "属性名称             \t 重要程度\n",
      "--------------------------------\n",
      "压后厚度mm           \t: 0.1758\n",
      "工具级别             \t: 0.1543\n",
      "板材类型             \t: 0.1408\n",
      "压合次数             \t: 0.0983\n",
      "芯板厚度mm           \t: 0.0904\n",
      "芯板残铜率%_0         \t: 0.0746\n",
      "芯板残铜率%_1         \t: 0.0699\n",
      "压合程序号            \t: 0.0627\n",
      "芯板叠层结构           \t: 0.0324\n",
      "预排工艺             \t: 0.0264\n",
      "下邻P片数            \t: 0.0190\n",
      "上邻P片数            \t: 0.0169\n",
      "缓冲材料使用栏          \t: 0.0138\n",
      "芯板铜厚OZ_0         \t: 0.0115\n",
      "芯板铜厚OZ_1         \t: 0.0110\n",
      "工具类型             \t: 0.0022\n"
     ]
    }
   ],
   "source": [
    "list_temp = zip(reg4['RFR'].feature_importances_,  df.columns.values)\n",
    "list_temp = sorted(list_temp, reverse=True)\n",
    "print(\"'{}'       相关参数 \".format(y))\n",
    "print('{:15s}  \\t {:s}'.format('属性名称', '重要程度'))\n",
    "print('--------------------------------' )\n",
    "for value, name in list_temp:\n",
    "    print('{:15s}  \\t: {:.4f}'.format(name, value))"
   ]
  }
 ],
 "metadata": {
  "kernelspec": {
   "display_name": "Environment (conda_python3)",
   "language": "python",
   "name": "conda_python3"
  },
  "language_info": {
   "codemirror_mode": {
    "name": "ipython",
    "version": 3
   },
   "file_extension": ".py",
   "mimetype": "text/x-python",
   "name": "python",
   "nbconvert_exporter": "python",
   "pygments_lexer": "ipython3",
   "version": "3.6.10"
  }
 },
 "nbformat": 4,
 "nbformat_minor": 4
}
