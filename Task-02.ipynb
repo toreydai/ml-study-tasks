{
 "cells": [
  {
   "cell_type": "code",
   "execution_count": 99,
   "metadata": {},
   "outputs": [],
   "source": [
    "import numpy as np\n",
    "import json\n",
    "\n",
    "def json_file_to_dict():\n",
    "    with open('data.json', 'r') as f:\n",
    "        a = json.load(f)\n",
    "\n",
    "        lines =''\n",
    "        \n",
    "        for i in a['words_result']:\n",
    "            \n",
    "            text = i['words']\n",
    "            width = i['location']['width']            \n",
    "            top = i['location']['top']\n",
    "            left = i['location']['left']\n",
    "            height = i['location']['height']\n",
    "            \n",
    "            x1 = left\n",
    "            y1 = top\n",
    "            x2 = left + width\n",
    "            y2 = top\n",
    "            x3 = left + width\n",
    "            y3 = top + height\n",
    "            x4 = left\n",
    "            y4 = top + height\n",
    "            \n",
    "            line = \"{},{},{},{},{},{},{},{},{}\\n\".format(x1, y1, x2, y2, x3, y3, x4, y4,text)\n",
    "            lines += line\n",
    "        \n",
    "        with open('output.txt', 'w', encoding='utf-8') as f:\n",
    "            f.write(lines)\n",
    "\n",
    "if __name__ == '__main__':\n",
    "    json_file_to_dict()"
   ]
  }
 ],
 "metadata": {
  "kernelspec": {
   "display_name": "conda_python3",
   "language": "python",
   "name": "conda_python3"
  },
  "language_info": {
   "codemirror_mode": {
    "name": "ipython",
    "version": 3
   },
   "file_extension": ".py",
   "mimetype": "text/x-python",
   "name": "python",
   "nbconvert_exporter": "python",
   "pygments_lexer": "ipython3",
   "version": "3.6.5"
  }
 },
 "nbformat": 4,
 "nbformat_minor": 4
}
